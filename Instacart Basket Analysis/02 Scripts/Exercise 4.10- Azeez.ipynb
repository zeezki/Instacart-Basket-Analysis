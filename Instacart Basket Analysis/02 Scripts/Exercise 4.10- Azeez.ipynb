{
 "cells": [
  {
   "cell_type": "markdown",
   "id": "3f446248",
   "metadata": {},
   "source": [
    "## Task 4.10\n",
    "\n",
    "### This script contains the following direction¶\n",
    "\n",
    "#### 1. Data Security\n",
    "#### 2. Create a regional column from the state data\n",
    "#### 3. Creating list of High and Low customers activity\n",
    "#### 4. Adding the income column to the dataframe\n",
    "#### 5. Marketing Strategy: Customers profiling;\n",
    "#### 6. Create visualization\n",
    "#### 7. Aggregating the  customers profile level for frequency and expenditure\n",
    "#### 8. Compare your customer profiles with regions and departments"
   ]
  },
  {
   "cell_type": "code",
   "execution_count": 1,
   "id": "b0670c91",
   "metadata": {},
   "outputs": [],
   "source": [
    "#Import libraries\n",
    "import pandas as pd\n",
    "import numpy as np\n",
    "import os\n",
    "import matplotlib.pyplot as plt\n",
    "import matplotlib.ticker as ticker\n",
    "import seaborn as sns\n",
    "import scipy"
   ]
  },
  {
   "cell_type": "code",
   "execution_count": 2,
   "id": "b20fa488",
   "metadata": {},
   "outputs": [],
   "source": [
    "path=r\"C:\\Users\\acisk\\Dropbox\\My PC (DESKTOP-SO8P63N)\\Desktop\\Data Analytics\\Achievement 4- Python Fundamentals for Data Analysts\\Instacart Basket Analysis 14-08-2021\""
   ]
  },
  {
   "cell_type": "code",
   "execution_count": 3,
   "id": "0353b275",
   "metadata": {},
   "outputs": [],
   "source": [
    "# Importing customers and products data\n",
    "customers_products = pd.read_pickle(os.path.join(path, '02 Data', 'Prepared Data', 'Combined_customers_order.pkl'))"
   ]
  },
  {
   "cell_type": "code",
   "execution_count": 4,
   "id": "a3567b2a",
   "metadata": {},
   "outputs": [
    {
     "data": {
      "text/html": [
       "<div>\n",
       "<style scoped>\n",
       "    .dataframe tbody tr th:only-of-type {\n",
       "        vertical-align: middle;\n",
       "    }\n",
       "\n",
       "    .dataframe tbody tr th {\n",
       "        vertical-align: top;\n",
       "    }\n",
       "\n",
       "    .dataframe thead th {\n",
       "        text-align: right;\n",
       "    }\n",
       "</style>\n",
       "<table border=\"1\" class=\"dataframe\">\n",
       "  <thead>\n",
       "    <tr style=\"text-align: right;\">\n",
       "      <th></th>\n",
       "      <th>order_id</th>\n",
       "      <th>user_id</th>\n",
       "      <th>order_number</th>\n",
       "      <th>orders_day_of_week</th>\n",
       "      <th>order_hour_of_day</th>\n",
       "      <th>days_since_prior_order</th>\n",
       "      <th>product_id</th>\n",
       "      <th>add_to_cart_order</th>\n",
       "      <th>reordered</th>\n",
       "      <th>product_name</th>\n",
       "      <th>...</th>\n",
       "      <th>customers_frequecy</th>\n",
       "      <th>First Name</th>\n",
       "      <th>Surname</th>\n",
       "      <th>Gender</th>\n",
       "      <th>STATE</th>\n",
       "      <th>Age</th>\n",
       "      <th>date_joined</th>\n",
       "      <th>n_dependants</th>\n",
       "      <th>fam_status</th>\n",
       "      <th>_merge</th>\n",
       "    </tr>\n",
       "  </thead>\n",
       "  <tbody>\n",
       "    <tr>\n",
       "      <th>0</th>\n",
       "      <td>2539329</td>\n",
       "      <td>1</td>\n",
       "      <td>1</td>\n",
       "      <td>2</td>\n",
       "      <td>8</td>\n",
       "      <td>11.0</td>\n",
       "      <td>196</td>\n",
       "      <td>1</td>\n",
       "      <td>0</td>\n",
       "      <td>Soda</td>\n",
       "      <td>...</td>\n",
       "      <td>Regular customer</td>\n",
       "      <td>Linda</td>\n",
       "      <td>Nguyen</td>\n",
       "      <td>Female</td>\n",
       "      <td>Alabama</td>\n",
       "      <td>31</td>\n",
       "      <td>2/17/2019</td>\n",
       "      <td>3</td>\n",
       "      <td>married</td>\n",
       "      <td>both</td>\n",
       "    </tr>\n",
       "    <tr>\n",
       "      <th>1</th>\n",
       "      <td>2398795</td>\n",
       "      <td>1</td>\n",
       "      <td>2</td>\n",
       "      <td>3</td>\n",
       "      <td>7</td>\n",
       "      <td>15.0</td>\n",
       "      <td>196</td>\n",
       "      <td>1</td>\n",
       "      <td>1</td>\n",
       "      <td>Soda</td>\n",
       "      <td>...</td>\n",
       "      <td>Regular customer</td>\n",
       "      <td>Linda</td>\n",
       "      <td>Nguyen</td>\n",
       "      <td>Female</td>\n",
       "      <td>Alabama</td>\n",
       "      <td>31</td>\n",
       "      <td>2/17/2019</td>\n",
       "      <td>3</td>\n",
       "      <td>married</td>\n",
       "      <td>both</td>\n",
       "    </tr>\n",
       "    <tr>\n",
       "      <th>2</th>\n",
       "      <td>473747</td>\n",
       "      <td>1</td>\n",
       "      <td>3</td>\n",
       "      <td>3</td>\n",
       "      <td>12</td>\n",
       "      <td>21.0</td>\n",
       "      <td>196</td>\n",
       "      <td>1</td>\n",
       "      <td>1</td>\n",
       "      <td>Soda</td>\n",
       "      <td>...</td>\n",
       "      <td>Regular customer</td>\n",
       "      <td>Linda</td>\n",
       "      <td>Nguyen</td>\n",
       "      <td>Female</td>\n",
       "      <td>Alabama</td>\n",
       "      <td>31</td>\n",
       "      <td>2/17/2019</td>\n",
       "      <td>3</td>\n",
       "      <td>married</td>\n",
       "      <td>both</td>\n",
       "    </tr>\n",
       "    <tr>\n",
       "      <th>3</th>\n",
       "      <td>2254736</td>\n",
       "      <td>1</td>\n",
       "      <td>4</td>\n",
       "      <td>4</td>\n",
       "      <td>7</td>\n",
       "      <td>29.0</td>\n",
       "      <td>196</td>\n",
       "      <td>1</td>\n",
       "      <td>1</td>\n",
       "      <td>Soda</td>\n",
       "      <td>...</td>\n",
       "      <td>Regular customer</td>\n",
       "      <td>Linda</td>\n",
       "      <td>Nguyen</td>\n",
       "      <td>Female</td>\n",
       "      <td>Alabama</td>\n",
       "      <td>31</td>\n",
       "      <td>2/17/2019</td>\n",
       "      <td>3</td>\n",
       "      <td>married</td>\n",
       "      <td>both</td>\n",
       "    </tr>\n",
       "    <tr>\n",
       "      <th>4</th>\n",
       "      <td>431534</td>\n",
       "      <td>1</td>\n",
       "      <td>5</td>\n",
       "      <td>4</td>\n",
       "      <td>15</td>\n",
       "      <td>28.0</td>\n",
       "      <td>196</td>\n",
       "      <td>1</td>\n",
       "      <td>1</td>\n",
       "      <td>Soda</td>\n",
       "      <td>...</td>\n",
       "      <td>Regular customer</td>\n",
       "      <td>Linda</td>\n",
       "      <td>Nguyen</td>\n",
       "      <td>Female</td>\n",
       "      <td>Alabama</td>\n",
       "      <td>31</td>\n",
       "      <td>2/17/2019</td>\n",
       "      <td>3</td>\n",
       "      <td>married</td>\n",
       "      <td>both</td>\n",
       "    </tr>\n",
       "  </tbody>\n",
       "</table>\n",
       "<p>5 rows × 32 columns</p>\n",
       "</div>"
      ],
      "text/plain": [
       "   order_id  user_id  order_number  orders_day_of_week  order_hour_of_day  \\\n",
       "0   2539329        1             1                   2                  8   \n",
       "1   2398795        1             2                   3                  7   \n",
       "2    473747        1             3                   3                 12   \n",
       "3   2254736        1             4                   4                  7   \n",
       "4    431534        1             5                   4                 15   \n",
       "\n",
       "   days_since_prior_order  product_id  add_to_cart_order  reordered  \\\n",
       "0                    11.0         196                  1          0   \n",
       "1                    15.0         196                  1          1   \n",
       "2                    21.0         196                  1          1   \n",
       "3                    29.0         196                  1          1   \n",
       "4                    28.0         196                  1          1   \n",
       "\n",
       "  product_name  ...  customers_frequecy  First Name  Surname  Gender    STATE  \\\n",
       "0         Soda  ...    Regular customer       Linda   Nguyen  Female  Alabama   \n",
       "1         Soda  ...    Regular customer       Linda   Nguyen  Female  Alabama   \n",
       "2         Soda  ...    Regular customer       Linda   Nguyen  Female  Alabama   \n",
       "3         Soda  ...    Regular customer       Linda   Nguyen  Female  Alabama   \n",
       "4         Soda  ...    Regular customer       Linda   Nguyen  Female  Alabama   \n",
       "\n",
       "  Age date_joined  n_dependants fam_status  _merge  \n",
       "0  31   2/17/2019             3    married    both  \n",
       "1  31   2/17/2019             3    married    both  \n",
       "2  31   2/17/2019             3    married    both  \n",
       "3  31   2/17/2019             3    married    both  \n",
       "4  31   2/17/2019             3    married    both  \n",
       "\n",
       "[5 rows x 32 columns]"
      ]
     },
     "execution_count": 4,
     "metadata": {},
     "output_type": "execute_result"
    }
   ],
   "source": [
    "customers_products.head()"
   ]
  },
  {
   "cell_type": "markdown",
   "id": "8262891e",
   "metadata": {},
   "source": [
    "#### 1. Data Security"
   ]
  },
  {
   "cell_type": "code",
   "execution_count": 5,
   "id": "896a1a39",
   "metadata": {},
   "outputs": [],
   "source": [
    "# Dropping PII datas\n",
    "new_customers_products= customers_products.drop(['First Name', 'Surname'], axis=1)"
   ]
  },
  {
   "cell_type": "markdown",
   "id": "9de42c72",
   "metadata": {},
   "source": [
    "#### This data contains PII, i.e information in the dataframe can be traced back to a particular person which is first and last name, since i am not given instruction on how to treat this data, i chosed to drop the PII columns"
   ]
  },
  {
   "cell_type": "code",
   "execution_count": 6,
   "id": "1ea68902",
   "metadata": {},
   "outputs": [
    {
     "data": {
      "text/html": [
       "<div>\n",
       "<style scoped>\n",
       "    .dataframe tbody tr th:only-of-type {\n",
       "        vertical-align: middle;\n",
       "    }\n",
       "\n",
       "    .dataframe tbody tr th {\n",
       "        vertical-align: top;\n",
       "    }\n",
       "\n",
       "    .dataframe thead th {\n",
       "        text-align: right;\n",
       "    }\n",
       "</style>\n",
       "<table border=\"1\" class=\"dataframe\">\n",
       "  <thead>\n",
       "    <tr style=\"text-align: right;\">\n",
       "      <th></th>\n",
       "      <th>order_id</th>\n",
       "      <th>user_id</th>\n",
       "      <th>order_number</th>\n",
       "      <th>orders_day_of_week</th>\n",
       "      <th>order_hour_of_day</th>\n",
       "      <th>days_since_prior_order</th>\n",
       "      <th>product_id</th>\n",
       "      <th>add_to_cart_order</th>\n",
       "      <th>reordered</th>\n",
       "      <th>product_name</th>\n",
       "      <th>...</th>\n",
       "      <th>spenders_type</th>\n",
       "      <th>order_frequency_flag</th>\n",
       "      <th>customers_frequecy</th>\n",
       "      <th>Gender</th>\n",
       "      <th>STATE</th>\n",
       "      <th>Age</th>\n",
       "      <th>date_joined</th>\n",
       "      <th>n_dependants</th>\n",
       "      <th>fam_status</th>\n",
       "      <th>_merge</th>\n",
       "    </tr>\n",
       "  </thead>\n",
       "  <tbody>\n",
       "    <tr>\n",
       "      <th>0</th>\n",
       "      <td>2539329</td>\n",
       "      <td>1</td>\n",
       "      <td>1</td>\n",
       "      <td>2</td>\n",
       "      <td>8</td>\n",
       "      <td>11.0</td>\n",
       "      <td>196</td>\n",
       "      <td>1</td>\n",
       "      <td>0</td>\n",
       "      <td>Soda</td>\n",
       "      <td>...</td>\n",
       "      <td>Low spender</td>\n",
       "      <td>20.0</td>\n",
       "      <td>Regular customer</td>\n",
       "      <td>Female</td>\n",
       "      <td>Alabama</td>\n",
       "      <td>31</td>\n",
       "      <td>2/17/2019</td>\n",
       "      <td>3</td>\n",
       "      <td>married</td>\n",
       "      <td>both</td>\n",
       "    </tr>\n",
       "    <tr>\n",
       "      <th>1</th>\n",
       "      <td>2398795</td>\n",
       "      <td>1</td>\n",
       "      <td>2</td>\n",
       "      <td>3</td>\n",
       "      <td>7</td>\n",
       "      <td>15.0</td>\n",
       "      <td>196</td>\n",
       "      <td>1</td>\n",
       "      <td>1</td>\n",
       "      <td>Soda</td>\n",
       "      <td>...</td>\n",
       "      <td>Low spender</td>\n",
       "      <td>20.0</td>\n",
       "      <td>Regular customer</td>\n",
       "      <td>Female</td>\n",
       "      <td>Alabama</td>\n",
       "      <td>31</td>\n",
       "      <td>2/17/2019</td>\n",
       "      <td>3</td>\n",
       "      <td>married</td>\n",
       "      <td>both</td>\n",
       "    </tr>\n",
       "    <tr>\n",
       "      <th>2</th>\n",
       "      <td>473747</td>\n",
       "      <td>1</td>\n",
       "      <td>3</td>\n",
       "      <td>3</td>\n",
       "      <td>12</td>\n",
       "      <td>21.0</td>\n",
       "      <td>196</td>\n",
       "      <td>1</td>\n",
       "      <td>1</td>\n",
       "      <td>Soda</td>\n",
       "      <td>...</td>\n",
       "      <td>Low spender</td>\n",
       "      <td>20.0</td>\n",
       "      <td>Regular customer</td>\n",
       "      <td>Female</td>\n",
       "      <td>Alabama</td>\n",
       "      <td>31</td>\n",
       "      <td>2/17/2019</td>\n",
       "      <td>3</td>\n",
       "      <td>married</td>\n",
       "      <td>both</td>\n",
       "    </tr>\n",
       "    <tr>\n",
       "      <th>3</th>\n",
       "      <td>2254736</td>\n",
       "      <td>1</td>\n",
       "      <td>4</td>\n",
       "      <td>4</td>\n",
       "      <td>7</td>\n",
       "      <td>29.0</td>\n",
       "      <td>196</td>\n",
       "      <td>1</td>\n",
       "      <td>1</td>\n",
       "      <td>Soda</td>\n",
       "      <td>...</td>\n",
       "      <td>Low spender</td>\n",
       "      <td>20.0</td>\n",
       "      <td>Regular customer</td>\n",
       "      <td>Female</td>\n",
       "      <td>Alabama</td>\n",
       "      <td>31</td>\n",
       "      <td>2/17/2019</td>\n",
       "      <td>3</td>\n",
       "      <td>married</td>\n",
       "      <td>both</td>\n",
       "    </tr>\n",
       "    <tr>\n",
       "      <th>4</th>\n",
       "      <td>431534</td>\n",
       "      <td>1</td>\n",
       "      <td>5</td>\n",
       "      <td>4</td>\n",
       "      <td>15</td>\n",
       "      <td>28.0</td>\n",
       "      <td>196</td>\n",
       "      <td>1</td>\n",
       "      <td>1</td>\n",
       "      <td>Soda</td>\n",
       "      <td>...</td>\n",
       "      <td>Low spender</td>\n",
       "      <td>20.0</td>\n",
       "      <td>Regular customer</td>\n",
       "      <td>Female</td>\n",
       "      <td>Alabama</td>\n",
       "      <td>31</td>\n",
       "      <td>2/17/2019</td>\n",
       "      <td>3</td>\n",
       "      <td>married</td>\n",
       "      <td>both</td>\n",
       "    </tr>\n",
       "  </tbody>\n",
       "</table>\n",
       "<p>5 rows × 30 columns</p>\n",
       "</div>"
      ],
      "text/plain": [
       "   order_id  user_id  order_number  orders_day_of_week  order_hour_of_day  \\\n",
       "0   2539329        1             1                   2                  8   \n",
       "1   2398795        1             2                   3                  7   \n",
       "2    473747        1             3                   3                 12   \n",
       "3   2254736        1             4                   4                  7   \n",
       "4    431534        1             5                   4                 15   \n",
       "\n",
       "   days_since_prior_order  product_id  add_to_cart_order  reordered  \\\n",
       "0                    11.0         196                  1          0   \n",
       "1                    15.0         196                  1          1   \n",
       "2                    21.0         196                  1          1   \n",
       "3                    29.0         196                  1          1   \n",
       "4                    28.0         196                  1          1   \n",
       "\n",
       "  product_name  ...  spenders_type  order_frequency_flag  customers_frequecy  \\\n",
       "0         Soda  ...    Low spender                  20.0    Regular customer   \n",
       "1         Soda  ...    Low spender                  20.0    Regular customer   \n",
       "2         Soda  ...    Low spender                  20.0    Regular customer   \n",
       "3         Soda  ...    Low spender                  20.0    Regular customer   \n",
       "4         Soda  ...    Low spender                  20.0    Regular customer   \n",
       "\n",
       "   Gender    STATE Age date_joined  n_dependants fam_status  _merge  \n",
       "0  Female  Alabama  31   2/17/2019             3    married    both  \n",
       "1  Female  Alabama  31   2/17/2019             3    married    both  \n",
       "2  Female  Alabama  31   2/17/2019             3    married    both  \n",
       "3  Female  Alabama  31   2/17/2019             3    married    both  \n",
       "4  Female  Alabama  31   2/17/2019             3    married    both  \n",
       "\n",
       "[5 rows x 30 columns]"
      ]
     },
     "execution_count": 6,
     "metadata": {},
     "output_type": "execute_result"
    }
   ],
   "source": [
    "new_customers_products.head()"
   ]
  },
  {
   "cell_type": "markdown",
   "id": "9ed14fde",
   "metadata": {},
   "source": [
    "#### 2. Create a regional column from the state data"
   ]
  },
  {
   "cell_type": "code",
   "execution_count": 7,
   "id": "695832b7",
   "metadata": {},
   "outputs": [],
   "source": [
    "#Creating a regional column from state\n",
    "regions = []\n",
    "\n",
    "for state in new_customers_products['STATE']:\n",
    "    if (state == 'Wisconsin') or (state == 'Michigan') or (state == 'Illinois') or (state == 'Indiana') or (state == 'Ohio') or (state == 'North Dakota') or (state == 'South Dakota') or (state == 'Nebraska') or (state == 'Minnesota') or (state == 'Iowa') or (state == 'Missouri') or (state == 'Kansas'):\n",
    "        regions.append('Midwest')\n",
    "    elif (state == 'Maine') or (state == 'New Hampshire') or (state == 'Vermont') or (state == 'Massachusetts') or (state == 'Rhode Island') or (state == 'Connecticut') or (state == 'New York') or (state == 'Pennsylvania') or (state =='New Jersey'):\n",
    "        regions.append('Northeast')\n",
    "    elif (state == 'Delaware') or (state == 'Maryland') or (state == 'District of Columbia') or (state == 'Virginia') or (state == 'West Virginia') or (state == 'North Carolina') or (state == 'South Carolina') or (state == 'Georgia') or (state == 'Florida') or (state == 'Kentucky') or (state == 'Tennessee') or (state == 'Mississippi') or (state == 'Alabama') or (state == 'Oklahoma') or (state == 'Texas') or (state == 'Arkansas') or (state == 'Louisiana'):\n",
    "        regions.append('South')\n",
    "    else:\n",
    "        regions.append('West')"
   ]
  },
  {
   "cell_type": "code",
   "execution_count": 8,
   "id": "c1c858d7",
   "metadata": {},
   "outputs": [],
   "source": [
    "new_customers_products['Region']=  regions"
   ]
  },
  {
   "cell_type": "code",
   "execution_count": 9,
   "id": "bb469719",
   "metadata": {},
   "outputs": [
    {
     "data": {
      "text/plain": [
       "Region\n",
       "South        668445\n",
       "West         512332\n",
       "Midwest      466881\n",
       "Northeast    352342\n",
       "dtype: int64"
      ]
     },
     "execution_count": 9,
     "metadata": {},
     "output_type": "execute_result"
    }
   ],
   "source": [
    "# check if the change is effected\n",
    "new_customers_products.value_counts('Region')"
   ]
  },
  {
   "cell_type": "code",
   "execution_count": 10,
   "id": "a42f5889",
   "metadata": {},
   "outputs": [
    {
     "data": {
      "text/html": [
       "<div>\n",
       "<style scoped>\n",
       "    .dataframe tbody tr th:only-of-type {\n",
       "        vertical-align: middle;\n",
       "    }\n",
       "\n",
       "    .dataframe tbody tr th {\n",
       "        vertical-align: top;\n",
       "    }\n",
       "\n",
       "    .dataframe thead th {\n",
       "        text-align: right;\n",
       "    }\n",
       "</style>\n",
       "<table border=\"1\" class=\"dataframe\">\n",
       "  <thead>\n",
       "    <tr style=\"text-align: right;\">\n",
       "      <th></th>\n",
       "      <th>order_id</th>\n",
       "      <th>user_id</th>\n",
       "      <th>order_number</th>\n",
       "      <th>orders_day_of_week</th>\n",
       "      <th>order_hour_of_day</th>\n",
       "      <th>days_since_prior_order</th>\n",
       "      <th>product_id</th>\n",
       "      <th>add_to_cart_order</th>\n",
       "      <th>reordered</th>\n",
       "      <th>product_name</th>\n",
       "      <th>...</th>\n",
       "      <th>order_frequency_flag</th>\n",
       "      <th>customers_frequecy</th>\n",
       "      <th>Gender</th>\n",
       "      <th>STATE</th>\n",
       "      <th>Age</th>\n",
       "      <th>date_joined</th>\n",
       "      <th>n_dependants</th>\n",
       "      <th>fam_status</th>\n",
       "      <th>_merge</th>\n",
       "      <th>Region</th>\n",
       "    </tr>\n",
       "  </thead>\n",
       "  <tbody>\n",
       "    <tr>\n",
       "      <th>0</th>\n",
       "      <td>2539329</td>\n",
       "      <td>1</td>\n",
       "      <td>1</td>\n",
       "      <td>2</td>\n",
       "      <td>8</td>\n",
       "      <td>11.0</td>\n",
       "      <td>196</td>\n",
       "      <td>1</td>\n",
       "      <td>0</td>\n",
       "      <td>Soda</td>\n",
       "      <td>...</td>\n",
       "      <td>20.0</td>\n",
       "      <td>Regular customer</td>\n",
       "      <td>Female</td>\n",
       "      <td>Alabama</td>\n",
       "      <td>31</td>\n",
       "      <td>2/17/2019</td>\n",
       "      <td>3</td>\n",
       "      <td>married</td>\n",
       "      <td>both</td>\n",
       "      <td>South</td>\n",
       "    </tr>\n",
       "    <tr>\n",
       "      <th>1</th>\n",
       "      <td>2398795</td>\n",
       "      <td>1</td>\n",
       "      <td>2</td>\n",
       "      <td>3</td>\n",
       "      <td>7</td>\n",
       "      <td>15.0</td>\n",
       "      <td>196</td>\n",
       "      <td>1</td>\n",
       "      <td>1</td>\n",
       "      <td>Soda</td>\n",
       "      <td>...</td>\n",
       "      <td>20.0</td>\n",
       "      <td>Regular customer</td>\n",
       "      <td>Female</td>\n",
       "      <td>Alabama</td>\n",
       "      <td>31</td>\n",
       "      <td>2/17/2019</td>\n",
       "      <td>3</td>\n",
       "      <td>married</td>\n",
       "      <td>both</td>\n",
       "      <td>South</td>\n",
       "    </tr>\n",
       "    <tr>\n",
       "      <th>2</th>\n",
       "      <td>473747</td>\n",
       "      <td>1</td>\n",
       "      <td>3</td>\n",
       "      <td>3</td>\n",
       "      <td>12</td>\n",
       "      <td>21.0</td>\n",
       "      <td>196</td>\n",
       "      <td>1</td>\n",
       "      <td>1</td>\n",
       "      <td>Soda</td>\n",
       "      <td>...</td>\n",
       "      <td>20.0</td>\n",
       "      <td>Regular customer</td>\n",
       "      <td>Female</td>\n",
       "      <td>Alabama</td>\n",
       "      <td>31</td>\n",
       "      <td>2/17/2019</td>\n",
       "      <td>3</td>\n",
       "      <td>married</td>\n",
       "      <td>both</td>\n",
       "      <td>South</td>\n",
       "    </tr>\n",
       "    <tr>\n",
       "      <th>3</th>\n",
       "      <td>2254736</td>\n",
       "      <td>1</td>\n",
       "      <td>4</td>\n",
       "      <td>4</td>\n",
       "      <td>7</td>\n",
       "      <td>29.0</td>\n",
       "      <td>196</td>\n",
       "      <td>1</td>\n",
       "      <td>1</td>\n",
       "      <td>Soda</td>\n",
       "      <td>...</td>\n",
       "      <td>20.0</td>\n",
       "      <td>Regular customer</td>\n",
       "      <td>Female</td>\n",
       "      <td>Alabama</td>\n",
       "      <td>31</td>\n",
       "      <td>2/17/2019</td>\n",
       "      <td>3</td>\n",
       "      <td>married</td>\n",
       "      <td>both</td>\n",
       "      <td>South</td>\n",
       "    </tr>\n",
       "    <tr>\n",
       "      <th>4</th>\n",
       "      <td>431534</td>\n",
       "      <td>1</td>\n",
       "      <td>5</td>\n",
       "      <td>4</td>\n",
       "      <td>15</td>\n",
       "      <td>28.0</td>\n",
       "      <td>196</td>\n",
       "      <td>1</td>\n",
       "      <td>1</td>\n",
       "      <td>Soda</td>\n",
       "      <td>...</td>\n",
       "      <td>20.0</td>\n",
       "      <td>Regular customer</td>\n",
       "      <td>Female</td>\n",
       "      <td>Alabama</td>\n",
       "      <td>31</td>\n",
       "      <td>2/17/2019</td>\n",
       "      <td>3</td>\n",
       "      <td>married</td>\n",
       "      <td>both</td>\n",
       "      <td>South</td>\n",
       "    </tr>\n",
       "  </tbody>\n",
       "</table>\n",
       "<p>5 rows × 31 columns</p>\n",
       "</div>"
      ],
      "text/plain": [
       "   order_id  user_id  order_number  orders_day_of_week  order_hour_of_day  \\\n",
       "0   2539329        1             1                   2                  8   \n",
       "1   2398795        1             2                   3                  7   \n",
       "2    473747        1             3                   3                 12   \n",
       "3   2254736        1             4                   4                  7   \n",
       "4    431534        1             5                   4                 15   \n",
       "\n",
       "   days_since_prior_order  product_id  add_to_cart_order  reordered  \\\n",
       "0                    11.0         196                  1          0   \n",
       "1                    15.0         196                  1          1   \n",
       "2                    21.0         196                  1          1   \n",
       "3                    29.0         196                  1          1   \n",
       "4                    28.0         196                  1          1   \n",
       "\n",
       "  product_name  ...  order_frequency_flag  customers_frequecy  Gender  \\\n",
       "0         Soda  ...                  20.0    Regular customer  Female   \n",
       "1         Soda  ...                  20.0    Regular customer  Female   \n",
       "2         Soda  ...                  20.0    Regular customer  Female   \n",
       "3         Soda  ...                  20.0    Regular customer  Female   \n",
       "4         Soda  ...                  20.0    Regular customer  Female   \n",
       "\n",
       "     STATE Age date_joined n_dependants  fam_status _merge  Region  \n",
       "0  Alabama  31   2/17/2019            3     married   both   South  \n",
       "1  Alabama  31   2/17/2019            3     married   both   South  \n",
       "2  Alabama  31   2/17/2019            3     married   both   South  \n",
       "3  Alabama  31   2/17/2019            3     married   both   South  \n",
       "4  Alabama  31   2/17/2019            3     married   both   South  \n",
       "\n",
       "[5 rows x 31 columns]"
      ]
     },
     "execution_count": 10,
     "metadata": {},
     "output_type": "execute_result"
    }
   ],
   "source": [
    "new_customers_products.head()"
   ]
  },
  {
   "cell_type": "code",
   "execution_count": 11,
   "id": "4493a06e",
   "metadata": {},
   "outputs": [],
   "source": [
    "# Determine whether there is difference in spending hadbit of each region\n",
    "crosstab_region_spenders_type = pd.crosstab(new_customers_products['Region'], new_customers_products['spenders_type'], dropna = False)"
   ]
  },
  {
   "cell_type": "code",
   "execution_count": 12,
   "id": "526e00d8",
   "metadata": {},
   "outputs": [
    {
     "data": {
      "text/html": [
       "<div>\n",
       "<style scoped>\n",
       "    .dataframe tbody tr th:only-of-type {\n",
       "        vertical-align: middle;\n",
       "    }\n",
       "\n",
       "    .dataframe tbody tr th {\n",
       "        vertical-align: top;\n",
       "    }\n",
       "\n",
       "    .dataframe thead th {\n",
       "        text-align: right;\n",
       "    }\n",
       "</style>\n",
       "<table border=\"1\" class=\"dataframe\">\n",
       "  <thead>\n",
       "    <tr style=\"text-align: right;\">\n",
       "      <th>spenders_type</th>\n",
       "      <th>High spender</th>\n",
       "      <th>Low spender</th>\n",
       "    </tr>\n",
       "    <tr>\n",
       "      <th>Region</th>\n",
       "      <th></th>\n",
       "      <th></th>\n",
       "    </tr>\n",
       "  </thead>\n",
       "  <tbody>\n",
       "    <tr>\n",
       "      <th>Midwest</th>\n",
       "      <td>6493</td>\n",
       "      <td>460388</td>\n",
       "    </tr>\n",
       "    <tr>\n",
       "      <th>Northeast</th>\n",
       "      <td>4467</td>\n",
       "      <td>347875</td>\n",
       "    </tr>\n",
       "    <tr>\n",
       "      <th>South</th>\n",
       "      <td>9657</td>\n",
       "      <td>658788</td>\n",
       "    </tr>\n",
       "    <tr>\n",
       "      <th>West</th>\n",
       "      <td>6425</td>\n",
       "      <td>505907</td>\n",
       "    </tr>\n",
       "  </tbody>\n",
       "</table>\n",
       "</div>"
      ],
      "text/plain": [
       "spenders_type  High spender  Low spender\n",
       "Region                                  \n",
       "Midwest                6493       460388\n",
       "Northeast              4467       347875\n",
       "South                  9657       658788\n",
       "West                   6425       505907"
      ]
     },
     "execution_count": 12,
     "metadata": {},
     "output_type": "execute_result"
    }
   ],
   "source": [
    "crosstab_region_spenders_type"
   ]
  },
  {
   "cell_type": "code",
   "execution_count": 13,
   "id": "a82c3606",
   "metadata": {},
   "outputs": [],
   "source": [
    "# Copy to clipboard\n",
    "crosstab_region_spenders_type.to_clipboard()"
   ]
  },
  {
   "cell_type": "markdown",
   "id": "d1d69bb3",
   "metadata": {},
   "source": [
    "#### 3. Creating list of High and Low customers activity"
   ]
  },
  {
   "cell_type": "code",
   "execution_count": 14,
   "id": "77e6daf8",
   "metadata": {},
   "outputs": [
    {
     "data": {
      "text/plain": [
       "Index(['order_id', 'user_id', 'order_number', 'orders_day_of_week',\n",
       "       'order_hour_of_day', 'days_since_prior_order', 'product_id',\n",
       "       'add_to_cart_order', 'reordered', 'product_name', 'aisle_id',\n",
       "       'department_id', 'prices', 'price_range_loc', 'busiest_day',\n",
       "       'busiest_days', 'busiest_period_of_day', 'max_order', 'loyalty_flag',\n",
       "       'Average_price', 'spenders_type', 'order_frequency_flag',\n",
       "       'customers_frequecy', 'Gender', 'STATE', 'Age', 'date_joined',\n",
       "       'n_dependants', 'fam_status', '_merge', 'Region'],\n",
       "      dtype='object')"
      ]
     },
     "execution_count": 14,
     "metadata": {},
     "output_type": "execute_result"
    }
   ],
   "source": [
    "# view all column names\n",
    "new_customers_products.columns"
   ]
  },
  {
   "cell_type": "code",
   "execution_count": 15,
   "id": "728c6295",
   "metadata": {},
   "outputs": [],
   "source": [
    "# create low activity customer flag\n",
    "new_customers_products.loc[new_customers_products['max_order'] < 5, 'customers_activity'] = 'Low'"
   ]
  },
  {
   "cell_type": "code",
   "execution_count": 16,
   "id": "82297847",
   "metadata": {},
   "outputs": [],
   "source": [
    "# create high activity customer flag\n",
    "new_customers_products.loc[new_customers_products['max_order'] > 5, 'customers_activity'] = 'High'"
   ]
  },
  {
   "cell_type": "code",
   "execution_count": 17,
   "id": "6a73e1b5",
   "metadata": {},
   "outputs": [
    {
     "data": {
      "text/plain": [
       "customers_activity\n",
       "High    1880299\n",
       "Low       76897\n",
       "dtype: int64"
      ]
     },
     "execution_count": 17,
     "metadata": {},
     "output_type": "execute_result"
    }
   ],
   "source": [
    "# check if the change is effected\n",
    "new_customers_products.value_counts('customers_activity')"
   ]
  },
  {
   "cell_type": "code",
   "execution_count": 18,
   "id": "634ff151",
   "metadata": {},
   "outputs": [],
   "source": [
    "# Exclude low activity customer from list\n",
    "new_customer_list = new_customers_products[new_customers_products['max_order'] > 5]"
   ]
  },
  {
   "cell_type": "code",
   "execution_count": 19,
   "id": "b0077b40",
   "metadata": {},
   "outputs": [
    {
     "data": {
      "text/html": [
       "<div>\n",
       "<style scoped>\n",
       "    .dataframe tbody tr th:only-of-type {\n",
       "        vertical-align: middle;\n",
       "    }\n",
       "\n",
       "    .dataframe tbody tr th {\n",
       "        vertical-align: top;\n",
       "    }\n",
       "\n",
       "    .dataframe thead th {\n",
       "        text-align: right;\n",
       "    }\n",
       "</style>\n",
       "<table border=\"1\" class=\"dataframe\">\n",
       "  <thead>\n",
       "    <tr style=\"text-align: right;\">\n",
       "      <th></th>\n",
       "      <th>order_id</th>\n",
       "      <th>user_id</th>\n",
       "      <th>order_number</th>\n",
       "      <th>orders_day_of_week</th>\n",
       "      <th>order_hour_of_day</th>\n",
       "      <th>days_since_prior_order</th>\n",
       "      <th>product_id</th>\n",
       "      <th>add_to_cart_order</th>\n",
       "      <th>reordered</th>\n",
       "      <th>product_name</th>\n",
       "      <th>...</th>\n",
       "      <th>customers_frequecy</th>\n",
       "      <th>Gender</th>\n",
       "      <th>STATE</th>\n",
       "      <th>Age</th>\n",
       "      <th>date_joined</th>\n",
       "      <th>n_dependants</th>\n",
       "      <th>fam_status</th>\n",
       "      <th>_merge</th>\n",
       "      <th>Region</th>\n",
       "      <th>customers_activity</th>\n",
       "    </tr>\n",
       "  </thead>\n",
       "  <tbody>\n",
       "    <tr>\n",
       "      <th>0</th>\n",
       "      <td>2539329</td>\n",
       "      <td>1</td>\n",
       "      <td>1</td>\n",
       "      <td>2</td>\n",
       "      <td>8</td>\n",
       "      <td>11.0</td>\n",
       "      <td>196</td>\n",
       "      <td>1</td>\n",
       "      <td>0</td>\n",
       "      <td>Soda</td>\n",
       "      <td>...</td>\n",
       "      <td>Regular customer</td>\n",
       "      <td>Female</td>\n",
       "      <td>Alabama</td>\n",
       "      <td>31</td>\n",
       "      <td>2/17/2019</td>\n",
       "      <td>3</td>\n",
       "      <td>married</td>\n",
       "      <td>both</td>\n",
       "      <td>South</td>\n",
       "      <td>High</td>\n",
       "    </tr>\n",
       "    <tr>\n",
       "      <th>1</th>\n",
       "      <td>2398795</td>\n",
       "      <td>1</td>\n",
       "      <td>2</td>\n",
       "      <td>3</td>\n",
       "      <td>7</td>\n",
       "      <td>15.0</td>\n",
       "      <td>196</td>\n",
       "      <td>1</td>\n",
       "      <td>1</td>\n",
       "      <td>Soda</td>\n",
       "      <td>...</td>\n",
       "      <td>Regular customer</td>\n",
       "      <td>Female</td>\n",
       "      <td>Alabama</td>\n",
       "      <td>31</td>\n",
       "      <td>2/17/2019</td>\n",
       "      <td>3</td>\n",
       "      <td>married</td>\n",
       "      <td>both</td>\n",
       "      <td>South</td>\n",
       "      <td>High</td>\n",
       "    </tr>\n",
       "    <tr>\n",
       "      <th>2</th>\n",
       "      <td>473747</td>\n",
       "      <td>1</td>\n",
       "      <td>3</td>\n",
       "      <td>3</td>\n",
       "      <td>12</td>\n",
       "      <td>21.0</td>\n",
       "      <td>196</td>\n",
       "      <td>1</td>\n",
       "      <td>1</td>\n",
       "      <td>Soda</td>\n",
       "      <td>...</td>\n",
       "      <td>Regular customer</td>\n",
       "      <td>Female</td>\n",
       "      <td>Alabama</td>\n",
       "      <td>31</td>\n",
       "      <td>2/17/2019</td>\n",
       "      <td>3</td>\n",
       "      <td>married</td>\n",
       "      <td>both</td>\n",
       "      <td>South</td>\n",
       "      <td>High</td>\n",
       "    </tr>\n",
       "    <tr>\n",
       "      <th>3</th>\n",
       "      <td>2254736</td>\n",
       "      <td>1</td>\n",
       "      <td>4</td>\n",
       "      <td>4</td>\n",
       "      <td>7</td>\n",
       "      <td>29.0</td>\n",
       "      <td>196</td>\n",
       "      <td>1</td>\n",
       "      <td>1</td>\n",
       "      <td>Soda</td>\n",
       "      <td>...</td>\n",
       "      <td>Regular customer</td>\n",
       "      <td>Female</td>\n",
       "      <td>Alabama</td>\n",
       "      <td>31</td>\n",
       "      <td>2/17/2019</td>\n",
       "      <td>3</td>\n",
       "      <td>married</td>\n",
       "      <td>both</td>\n",
       "      <td>South</td>\n",
       "      <td>High</td>\n",
       "    </tr>\n",
       "    <tr>\n",
       "      <th>4</th>\n",
       "      <td>431534</td>\n",
       "      <td>1</td>\n",
       "      <td>5</td>\n",
       "      <td>4</td>\n",
       "      <td>15</td>\n",
       "      <td>28.0</td>\n",
       "      <td>196</td>\n",
       "      <td>1</td>\n",
       "      <td>1</td>\n",
       "      <td>Soda</td>\n",
       "      <td>...</td>\n",
       "      <td>Regular customer</td>\n",
       "      <td>Female</td>\n",
       "      <td>Alabama</td>\n",
       "      <td>31</td>\n",
       "      <td>2/17/2019</td>\n",
       "      <td>3</td>\n",
       "      <td>married</td>\n",
       "      <td>both</td>\n",
       "      <td>South</td>\n",
       "      <td>High</td>\n",
       "    </tr>\n",
       "  </tbody>\n",
       "</table>\n",
       "<p>5 rows × 32 columns</p>\n",
       "</div>"
      ],
      "text/plain": [
       "   order_id  user_id  order_number  orders_day_of_week  order_hour_of_day  \\\n",
       "0   2539329        1             1                   2                  8   \n",
       "1   2398795        1             2                   3                  7   \n",
       "2    473747        1             3                   3                 12   \n",
       "3   2254736        1             4                   4                  7   \n",
       "4    431534        1             5                   4                 15   \n",
       "\n",
       "   days_since_prior_order  product_id  add_to_cart_order  reordered  \\\n",
       "0                    11.0         196                  1          0   \n",
       "1                    15.0         196                  1          1   \n",
       "2                    21.0         196                  1          1   \n",
       "3                    29.0         196                  1          1   \n",
       "4                    28.0         196                  1          1   \n",
       "\n",
       "  product_name  ...  customers_frequecy  Gender    STATE Age date_joined  \\\n",
       "0         Soda  ...    Regular customer  Female  Alabama  31   2/17/2019   \n",
       "1         Soda  ...    Regular customer  Female  Alabama  31   2/17/2019   \n",
       "2         Soda  ...    Regular customer  Female  Alabama  31   2/17/2019   \n",
       "3         Soda  ...    Regular customer  Female  Alabama  31   2/17/2019   \n",
       "4         Soda  ...    Regular customer  Female  Alabama  31   2/17/2019   \n",
       "\n",
       "  n_dependants fam_status  _merge Region  customers_activity  \n",
       "0            3    married    both  South                High  \n",
       "1            3    married    both  South                High  \n",
       "2            3    married    both  South                High  \n",
       "3            3    married    both  South                High  \n",
       "4            3    married    both  South                High  \n",
       "\n",
       "[5 rows x 32 columns]"
      ]
     },
     "execution_count": 19,
     "metadata": {},
     "output_type": "execute_result"
    }
   ],
   "source": [
    "new_customer_list.head()"
   ]
  },
  {
   "cell_type": "markdown",
   "id": "c3501303",
   "metadata": {},
   "source": [
    "#### 4. Adding the income column to the dataframe"
   ]
  },
  {
   "cell_type": "code",
   "execution_count": 20,
   "id": "9b1cfbf7",
   "metadata": {},
   "outputs": [],
   "source": [
    "# Importing customer data so as to add the income column becuase i already deleted it in the previous excersie and i do not want to overwrite the code\n",
    "df_customers = pd.read_csv(os.path.join(path, '02 Data', 'Original Data', 'customers.csv'), index_col = False)"
   ]
  },
  {
   "cell_type": "code",
   "execution_count": 21,
   "id": "f27d7632",
   "metadata": {},
   "outputs": [
    {
     "data": {
      "text/html": [
       "<div>\n",
       "<style scoped>\n",
       "    .dataframe tbody tr th:only-of-type {\n",
       "        vertical-align: middle;\n",
       "    }\n",
       "\n",
       "    .dataframe tbody tr th {\n",
       "        vertical-align: top;\n",
       "    }\n",
       "\n",
       "    .dataframe thead th {\n",
       "        text-align: right;\n",
       "    }\n",
       "</style>\n",
       "<table border=\"1\" class=\"dataframe\">\n",
       "  <thead>\n",
       "    <tr style=\"text-align: right;\">\n",
       "      <th></th>\n",
       "      <th>user_id</th>\n",
       "      <th>First Name</th>\n",
       "      <th>Surnam</th>\n",
       "      <th>Gender</th>\n",
       "      <th>STATE</th>\n",
       "      <th>Age</th>\n",
       "      <th>date_joined</th>\n",
       "      <th>n_dependants</th>\n",
       "      <th>fam_status</th>\n",
       "      <th>income</th>\n",
       "    </tr>\n",
       "  </thead>\n",
       "  <tbody>\n",
       "    <tr>\n",
       "      <th>0</th>\n",
       "      <td>26711</td>\n",
       "      <td>Deborah</td>\n",
       "      <td>Esquivel</td>\n",
       "      <td>Female</td>\n",
       "      <td>Missouri</td>\n",
       "      <td>48</td>\n",
       "      <td>1/1/2017</td>\n",
       "      <td>3</td>\n",
       "      <td>married</td>\n",
       "      <td>165665</td>\n",
       "    </tr>\n",
       "    <tr>\n",
       "      <th>1</th>\n",
       "      <td>33890</td>\n",
       "      <td>Patricia</td>\n",
       "      <td>Hart</td>\n",
       "      <td>Female</td>\n",
       "      <td>New Mexico</td>\n",
       "      <td>36</td>\n",
       "      <td>1/1/2017</td>\n",
       "      <td>0</td>\n",
       "      <td>single</td>\n",
       "      <td>59285</td>\n",
       "    </tr>\n",
       "    <tr>\n",
       "      <th>2</th>\n",
       "      <td>65803</td>\n",
       "      <td>Kenneth</td>\n",
       "      <td>Farley</td>\n",
       "      <td>Male</td>\n",
       "      <td>Idaho</td>\n",
       "      <td>35</td>\n",
       "      <td>1/1/2017</td>\n",
       "      <td>2</td>\n",
       "      <td>married</td>\n",
       "      <td>99568</td>\n",
       "    </tr>\n",
       "    <tr>\n",
       "      <th>3</th>\n",
       "      <td>125935</td>\n",
       "      <td>Michelle</td>\n",
       "      <td>Hicks</td>\n",
       "      <td>Female</td>\n",
       "      <td>Iowa</td>\n",
       "      <td>40</td>\n",
       "      <td>1/1/2017</td>\n",
       "      <td>0</td>\n",
       "      <td>single</td>\n",
       "      <td>42049</td>\n",
       "    </tr>\n",
       "    <tr>\n",
       "      <th>4</th>\n",
       "      <td>130797</td>\n",
       "      <td>Ann</td>\n",
       "      <td>Gilmore</td>\n",
       "      <td>Female</td>\n",
       "      <td>Maryland</td>\n",
       "      <td>26</td>\n",
       "      <td>1/1/2017</td>\n",
       "      <td>1</td>\n",
       "      <td>married</td>\n",
       "      <td>40374</td>\n",
       "    </tr>\n",
       "  </tbody>\n",
       "</table>\n",
       "</div>"
      ],
      "text/plain": [
       "   user_id First Name    Surnam  Gender       STATE  Age date_joined  \\\n",
       "0    26711    Deborah  Esquivel  Female    Missouri   48    1/1/2017   \n",
       "1    33890   Patricia      Hart  Female  New Mexico   36    1/1/2017   \n",
       "2    65803    Kenneth    Farley    Male       Idaho   35    1/1/2017   \n",
       "3   125935   Michelle     Hicks  Female        Iowa   40    1/1/2017   \n",
       "4   130797        Ann   Gilmore  Female    Maryland   26    1/1/2017   \n",
       "\n",
       "   n_dependants fam_status  income  \n",
       "0             3    married  165665  \n",
       "1             0     single   59285  \n",
       "2             2    married   99568  \n",
       "3             0     single   42049  \n",
       "4             1    married   40374  "
      ]
     },
     "execution_count": 21,
     "metadata": {},
     "output_type": "execute_result"
    }
   ],
   "source": [
    "df_customers.head()"
   ]
  },
  {
   "cell_type": "code",
   "execution_count": 22,
   "id": "1d87d85c",
   "metadata": {},
   "outputs": [],
   "source": [
    "# show only the income column and key column\n",
    "customer_income = df_customers[['user_id', 'income']]"
   ]
  },
  {
   "cell_type": "code",
   "execution_count": 23,
   "id": "dfaf5bfb",
   "metadata": {},
   "outputs": [
    {
     "data": {
      "text/html": [
       "<div>\n",
       "<style scoped>\n",
       "    .dataframe tbody tr th:only-of-type {\n",
       "        vertical-align: middle;\n",
       "    }\n",
       "\n",
       "    .dataframe tbody tr th {\n",
       "        vertical-align: top;\n",
       "    }\n",
       "\n",
       "    .dataframe thead th {\n",
       "        text-align: right;\n",
       "    }\n",
       "</style>\n",
       "<table border=\"1\" class=\"dataframe\">\n",
       "  <thead>\n",
       "    <tr style=\"text-align: right;\">\n",
       "      <th></th>\n",
       "      <th>user_id</th>\n",
       "      <th>income</th>\n",
       "    </tr>\n",
       "  </thead>\n",
       "  <tbody>\n",
       "    <tr>\n",
       "      <th>0</th>\n",
       "      <td>26711</td>\n",
       "      <td>165665</td>\n",
       "    </tr>\n",
       "    <tr>\n",
       "      <th>1</th>\n",
       "      <td>33890</td>\n",
       "      <td>59285</td>\n",
       "    </tr>\n",
       "    <tr>\n",
       "      <th>2</th>\n",
       "      <td>65803</td>\n",
       "      <td>99568</td>\n",
       "    </tr>\n",
       "    <tr>\n",
       "      <th>3</th>\n",
       "      <td>125935</td>\n",
       "      <td>42049</td>\n",
       "    </tr>\n",
       "    <tr>\n",
       "      <th>4</th>\n",
       "      <td>130797</td>\n",
       "      <td>40374</td>\n",
       "    </tr>\n",
       "  </tbody>\n",
       "</table>\n",
       "</div>"
      ],
      "text/plain": [
       "   user_id  income\n",
       "0    26711  165665\n",
       "1    33890   59285\n",
       "2    65803   99568\n",
       "3   125935   42049\n",
       "4   130797   40374"
      ]
     },
     "execution_count": 23,
     "metadata": {},
     "output_type": "execute_result"
    }
   ],
   "source": [
    "customer_income.head()"
   ]
  },
  {
   "cell_type": "code",
   "execution_count": 24,
   "id": "4fc4445a",
   "metadata": {},
   "outputs": [],
   "source": [
    "#drop _merge column\n",
    "new_customer_clean = new_customer_list.drop('_merge', axis =1)"
   ]
  },
  {
   "cell_type": "code",
   "execution_count": 25,
   "id": "a36e0f66",
   "metadata": {},
   "outputs": [],
   "source": [
    "# Combine the customer data with income data\n",
    "new_customer1 = new_customer_clean.merge(customer_income, on = 'user_id', indicator= True)"
   ]
  },
  {
   "cell_type": "code",
   "execution_count": 26,
   "id": "a3ede632",
   "metadata": {},
   "outputs": [
    {
     "data": {
      "text/plain": [
       "Index(['order_id', 'user_id', 'order_number', 'orders_day_of_week',\n",
       "       'order_hour_of_day', 'days_since_prior_order', 'product_id',\n",
       "       'add_to_cart_order', 'reordered', 'product_name', 'aisle_id',\n",
       "       'department_id', 'prices', 'price_range_loc', 'busiest_day',\n",
       "       'busiest_days', 'busiest_period_of_day', 'max_order', 'loyalty_flag',\n",
       "       'Average_price', 'spenders_type', 'order_frequency_flag',\n",
       "       'customers_frequecy', 'Gender', 'STATE', 'Age', 'date_joined',\n",
       "       'n_dependants', 'fam_status', 'Region', 'customers_activity', 'income',\n",
       "       '_merge'],\n",
       "      dtype='object')"
      ]
     },
     "execution_count": 26,
     "metadata": {},
     "output_type": "execute_result"
    }
   ],
   "source": [
    "new_customer1.columns"
   ]
  },
  {
   "cell_type": "markdown",
   "id": "9aacf130",
   "metadata": {},
   "source": [
    "#### 5. Marketing Strategy: Customers profiling;"
   ]
  },
  {
   "cell_type": "code",
   "execution_count": 27,
   "id": "2c5cd3a4",
   "metadata": {},
   "outputs": [],
   "source": [
    "# Customers age that have most income\n",
    "crosstab_age_income = pd.crosstab(new_customer1['Age'], new_customer1['income'].sum(), dropna = False)\n",
    "crosstab_age_income.to_clipboard()"
   ]
  },
  {
   "cell_type": "code",
   "execution_count": 28,
   "id": "0d690245",
   "metadata": {},
   "outputs": [],
   "source": [
    "#department id and their prices\n",
    "crosstab_prices_dept = pd.crosstab(new_customer1['prices'].sum(), new_customer1['department_id'], dropna = False)\n",
    "crosstab_prices_dept.to_clipboard()"
   ]
  },
  {
   "cell_type": "code",
   "execution_count": 29,
   "id": "9b51a725",
   "metadata": {},
   "outputs": [],
   "source": [
    "#Family status that have most income\n",
    "crosstab_fam_income = pd.crosstab(new_customer1['fam_status'], new_customer1['income'].sum(), dropna = False)\n",
    "crosstab_fam_income.to_clipboard()"
   ]
  },
  {
   "cell_type": "code",
   "execution_count": 30,
   "id": "f24bd403",
   "metadata": {},
   "outputs": [],
   "source": [
    "#family status- order day of the week\n",
    "crosstab_fam_orderdow = pd.crosstab(new_customer1['fam_status'], new_customer1['orders_day_of_week'], dropna = False)\n",
    "crosstab_fam_orderdow.to_clipboard()"
   ]
  },
  {
   "cell_type": "code",
   "execution_count": 31,
   "id": "c64ee112",
   "metadata": {},
   "outputs": [],
   "source": [
    "#Age- family status\n",
    "crosstab_age_fam = pd.crosstab(new_customer1['Age'], new_customer1['fam_status'], dropna = False)\n",
    "crosstab_age_fam.to_clipboard()"
   ]
  },
  {
   "cell_type": "code",
   "execution_count": 32,
   "id": "a59769a7",
   "metadata": {},
   "outputs": [],
   "source": [
    "# No of dependent- income\n",
    "crosstab_dependent_income = pd.crosstab(new_customer1['n_dependants'], new_customer1['income'], dropna = False)\n",
    "crosstab_dependent_income.to_clipboard()"
   ]
  },
  {
   "cell_type": "code",
   "execution_count": 33,
   "id": "7674fe84",
   "metadata": {},
   "outputs": [],
   "source": [
    "# Region with their average income\n",
    "crosstab_region_income = pd.crosstab(new_customer1['Region'], new_customer1['income'].mean(), dropna = True)\n",
    "crosstab_region_income.to_clipboard()"
   ]
  },
  {
   "cell_type": "code",
   "execution_count": 34,
   "id": "b8d2fda4",
   "metadata": {},
   "outputs": [],
   "source": [
    "# Creating flag for customers income level\n",
    "new_customer1.loc[new_customer1['income'] < 50000, 'income level'] = 'Low income'\n",
    "new_customer1.loc[(new_customer1['income'] >50000) & (new_customer1['income'] <=100000), 'income level'] = 'Medium income'\n",
    "new_customer1.loc[new_customer1['income'] >= 150000, 'income level'] = 'High income'"
   ]
  },
  {
   "cell_type": "code",
   "execution_count": 35,
   "id": "baaec03b",
   "metadata": {},
   "outputs": [
    {
     "data": {
      "text/plain": [
       "income level\n",
       "Medium income    808354\n",
       "High income      227454\n",
       "Low income       227165\n",
       "dtype: int64"
      ]
     },
     "execution_count": 35,
     "metadata": {},
     "output_type": "execute_result"
    }
   ],
   "source": [
    "new_customer1.value_counts('income level')"
   ]
  },
  {
   "cell_type": "markdown",
   "id": "11a9a4ab",
   "metadata": {},
   "source": [
    "#### 6. Create visualization"
   ]
  },
  {
   "cell_type": "markdown",
   "id": "49e20524",
   "metadata": {},
   "source": [
    "#### Line chart of customers Age and income "
   ]
  },
  {
   "cell_type": "code",
   "execution_count": 36,
   "id": "1827919b",
   "metadata": {},
   "outputs": [],
   "source": [
    "# Line chart for Customers age that have most income\n",
    "np.random.seed(4)"
   ]
  },
  {
   "cell_type": "code",
   "execution_count": 37,
   "id": "b687d1f7",
   "metadata": {},
   "outputs": [],
   "source": [
    "# Creating a list holding True/False values to test the np.random.rand(),=0.7\n",
    "dev = np.random.rand(len(new_customer1)) <= 0.7"
   ]
  },
  {
   "cell_type": "code",
   "execution_count": 38,
   "id": "a0696785",
   "metadata": {},
   "outputs": [],
   "source": [
    "# Store 70%  of the sample in the dataframe big\n",
    "big = new_customer1[dev]"
   ]
  },
  {
   "cell_type": "code",
   "execution_count": 39,
   "id": "2cda3f14",
   "metadata": {},
   "outputs": [],
   "source": [
    "# Store 30% of the sample in the dataframe small\n",
    "small = new_customer1[~dev]"
   ]
  },
  {
   "cell_type": "code",
   "execution_count": 40,
   "id": "f9dd9559",
   "metadata": {},
   "outputs": [
    {
     "data": {
      "text/plain": [
       "1880299"
      ]
     },
     "execution_count": 40,
     "metadata": {},
     "output_type": "execute_result"
    }
   ],
   "source": [
    "len(new_customer1)"
   ]
  },
  {
   "cell_type": "code",
   "execution_count": 41,
   "id": "470ff526",
   "metadata": {},
   "outputs": [
    {
     "data": {
      "text/plain": [
       "1880299"
      ]
     },
     "execution_count": 41,
     "metadata": {},
     "output_type": "execute_result"
    }
   ],
   "source": [
    "len(small) + len(big)"
   ]
  },
  {
   "cell_type": "code",
   "execution_count": 42,
   "id": "db9caac0",
   "metadata": {},
   "outputs": [],
   "source": [
    "line1 = small[['Age','income']]"
   ]
  },
  {
   "cell_type": "code",
   "execution_count": 43,
   "id": "5b612322",
   "metadata": {},
   "outputs": [
    {
     "data": {
      "image/png": "[encoded data removed]",
      "text/plain": [
       "<Figure size 432x288 with 1 Axes>"
      ]
     },
     "metadata": {
      "needs_background": "light"
     },
     "output_type": "display_data"
    }
   ],
   "source": [
    "line_age_income = sns.lineplot(data = line1, x = 'Age',y = 'income')"
   ]
  },
  {
   "cell_type": "code",
   "execution_count": 44,
   "id": "f283591e",
   "metadata": {},
   "outputs": [],
   "source": [
    "line_age_income.figure.savefig(os.path.join(path, '04 Analysis','Visualizations', 'line_age_income.png'))"
   ]
  },
  {
   "cell_type": "markdown",
   "id": "a5ebdc36",
   "metadata": {},
   "source": [
    "#### Bar chart of department id and the spendings"
   ]
  },
  {
   "cell_type": "code",
   "execution_count": 53,
   "id": "ba3d6bc1",
   "metadata": {},
   "outputs": [
    {
     "data": {
      "image/png": "[encoded data removed]",
      "text/plain": [
       "<Figure size 432x288 with 1 Axes>"
      ]
     },
     "metadata": {
      "needs_background": "light"
     },
     "output_type": "display_data"
    }
   ],
   "source": [
    "bar_dept_spendings= new_customer1['department_id'].value_counts('max_order').plot.bar()\n",
    "plt.xlabel('department id')\n",
    "plt.ylabel('spendings')\n",
    "plt.title('Department by Spendings')\n",
    "plt.show()"
   ]
  },
  {
   "cell_type": "code",
   "execution_count": 54,
   "id": "2c0fa876",
   "metadata": {},
   "outputs": [],
   "source": [
    "bar_dept_spendings.figure.savefig(os.path.join(path, '04 Analysis','Visualizations', 'bar_dept_spendings.png'))"
   ]
  },
  {
   "cell_type": "markdown",
   "id": "d17d03e7",
   "metadata": {},
   "source": [
    "#### Histogram of Family status and income"
   ]
  },
  {
   "cell_type": "code",
   "execution_count": 66,
   "id": "02c188ec",
   "metadata": {},
   "outputs": [
    {
     "data": {
      "image/png": "[encoded data removed]",
      "text/plain": [
       "<Figure size 432x288 with 1 Axes>"
      ]
     },
     "metadata": {
      "needs_background": "light"
     },
     "output_type": "display_data"
    }
   ],
   "source": [
    "bar_fam_income= new_customer1['fam_status'].value_counts('income').sum('income').plot.bar()"
   ]
  },
  {
   "cell_type": "code",
   "execution_count": 67,
   "id": "505162fb",
   "metadata": {},
   "outputs": [
    {
     "ename": "NameError",
     "evalue": "name 'customers_new' is not defined",
     "output_type": "error",
     "traceback": [
      "\u001b[1;31m---------------------------------------------------------------------------\u001b[0m",
      "\u001b[1;31mNameError\u001b[0m                                 Traceback (most recent call last)",
      "\u001b[1;32m<ipython-input-67-bd20afa810b6>\u001b[0m in \u001b[0;36m<module>\u001b[1;34m\u001b[0m\n\u001b[1;32m----> 1\u001b[1;33m \u001b[0mhist_\u001b[0m\u001b[1;33m=\u001b[0m \u001b[0mcustomers_new\u001b[0m\u001b[1;33m[\u001b[0m\u001b[1;34m'prices'\u001b[0m\u001b[1;33m]\u001b[0m\u001b[1;33m.\u001b[0m\u001b[0mplot\u001b[0m\u001b[1;33m.\u001b[0m\u001b[0mhist\u001b[0m\u001b[1;33m(\u001b[0m\u001b[0mbins\u001b[0m \u001b[1;33m=\u001b[0m \u001b[1;36m25\u001b[0m\u001b[1;33m)\u001b[0m\u001b[1;33m\u001b[0m\u001b[1;33m\u001b[0m\u001b[0m\n\u001b[0m",
      "\u001b[1;31mNameError\u001b[0m: name 'customers_new' is not defined"
     ]
    }
   ],
   "source": [
    "hist_= customers_new['prices'].plot.hist(bins = 25)"
   ]
  },
  {
   "cell_type": "code",
   "execution_count": 68,
   "id": "637b7677",
   "metadata": {},
   "outputs": [],
   "source": [
    "bar_fam_income.figure.savefig(os.path.join(path, '04 Analysis','Visualizations', 'bar_fam_income.png'))"
   ]
  },
  {
   "cell_type": "markdown",
   "id": "5f0c696e",
   "metadata": {},
   "source": [
    "#### Scatterplot of customers age and spendings"
   ]
  },
  {
   "cell_type": "code",
   "execution_count": 94,
   "id": "6602b369",
   "metadata": {},
   "outputs": [
    {
     "data": {
      "image/png": "[encoded data removed]",
      "text/plain": [
       "<Figure size 432x288 with 1 Axes>"
      ]
     },
     "metadata": {
      "needs_background": "light"
     },
     "output_type": "display_data"
    }
   ],
   "source": [
    "Scatt_age_spendings= sns.scatterplot(x = 'Age', y = 'Average_price',data = new_customer1)\n",
    "Scatt_age_spendings.yaxis.set_major_formatter(ticker.FuncFormatter(lambda x, pos: '{:,.0f}'.format(x) + '$'))\n",
    "plt.ylabel(\"Average price\")\n",
    "plt.show()"
   ]
  },
  {
   "cell_type": "code",
   "execution_count": 96,
   "id": "9a83a69a",
   "metadata": {},
   "outputs": [],
   "source": [
    "Scatt_age_spendings.figure.savefig(os.path.join(path, '04 Analysis','Visualizations', 'Scatt_age_spendings.png'))"
   ]
  },
  {
   "cell_type": "markdown",
   "id": "6730e5f9",
   "metadata": {},
   "source": [
    "#### Bar chart of  Region with their average income"
   ]
  },
  {
   "cell_type": "markdown",
   "id": "1d09f667",
   "metadata": {},
   "source": [
    "#### Bar chart income level"
   ]
  },
  {
   "cell_type": "code",
   "execution_count": 71,
   "id": "df51c422",
   "metadata": {},
   "outputs": [
    {
     "data": {
      "image/png": "[encoded data removed]",
      "text/plain": [
       "<Figure size 432x288 with 1 Axes>"
      ]
     },
     "metadata": {
      "needs_background": "light"
     },
     "output_type": "display_data"
    }
   ],
   "source": [
    "bar_region_incomelevel= new_customer1['income level'].value_counts().plot.bar()"
   ]
  },
  {
   "cell_type": "code",
   "execution_count": 72,
   "id": "775da280",
   "metadata": {},
   "outputs": [],
   "source": [
    "bar_region_incomelevel.figure.savefig(os.path.join(path, '04 Analysis','Visualizations', 'bar_region_incomelevel.png'))"
   ]
  },
  {
   "cell_type": "markdown",
   "id": "b50915fb",
   "metadata": {},
   "source": [
    "#### Pie chart customers income level"
   ]
  },
  {
   "cell_type": "code",
   "execution_count": 73,
   "id": "b8c3aced",
   "metadata": {},
   "outputs": [
    {
     "data": {
      "image/png": "[encoded data removed]",
      "text/plain": [
       "<Figure size 432x288 with 1 Axes>"
      ]
     },
     "metadata": {},
     "output_type": "display_data"
    }
   ],
   "source": [
    "#creating pie chart with income level data\n",
    "labels = ['Medium income', 'High income', 'Low income ']\n",
    "sizes = [808354, 227454, 227165]\n",
    "colors = ['yellowgreen', 'gold', 'lightskyblue']\n",
    "plt.pie(sizes, labels = labels, shadow = True, colors = colors)\n",
    "plt.legend()\n",
    "plt.show()"
   ]
  },
  {
   "cell_type": "code",
   "execution_count": 74,
   "id": "7b02ba6f",
   "metadata": {},
   "outputs": [
    {
     "data": {
      "text/plain": [
       "<Figure size 432x288 with 0 Axes>"
      ]
     },
     "metadata": {},
     "output_type": "display_data"
    }
   ],
   "source": [
    "plt.savefig(os.path.join(path, '04 Analysis','Visualizations', 'pie_chart_incomelevel.png'))"
   ]
  },
  {
   "cell_type": "markdown",
   "id": "fdf83ac7",
   "metadata": {},
   "source": [
    "#### 7. Aggregating the  customers profile level for frequency and expenditure"
   ]
  },
  {
   "cell_type": "code",
   "execution_count": 75,
   "id": "d782a76d",
   "metadata": {},
   "outputs": [
    {
     "data": {
      "text/html": [
       "<div>\n",
       "<style scoped>\n",
       "    .dataframe tbody tr th:only-of-type {\n",
       "        vertical-align: middle;\n",
       "    }\n",
       "\n",
       "    .dataframe tbody tr th {\n",
       "        vertical-align: top;\n",
       "    }\n",
       "\n",
       "    .dataframe thead tr th {\n",
       "        text-align: left;\n",
       "    }\n",
       "\n",
       "    .dataframe thead tr:last-of-type th {\n",
       "        text-align: right;\n",
       "    }\n",
       "</style>\n",
       "<table border=\"1\" class=\"dataframe\">\n",
       "  <thead>\n",
       "    <tr>\n",
       "      <th></th>\n",
       "      <th colspan=\"3\" halign=\"left\">prices</th>\n",
       "    </tr>\n",
       "    <tr>\n",
       "      <th></th>\n",
       "      <th>mean</th>\n",
       "      <th>min</th>\n",
       "      <th>max</th>\n",
       "    </tr>\n",
       "    <tr>\n",
       "      <th>user_id</th>\n",
       "      <th></th>\n",
       "      <th></th>\n",
       "      <th></th>\n",
       "    </tr>\n",
       "  </thead>\n",
       "  <tbody>\n",
       "    <tr>\n",
       "      <th>1</th>\n",
       "      <td>6.367797</td>\n",
       "      <td>1.0</td>\n",
       "      <td>14.0</td>\n",
       "    </tr>\n",
       "    <tr>\n",
       "      <th>2</th>\n",
       "      <td>6.610811</td>\n",
       "      <td>1.3</td>\n",
       "      <td>14.8</td>\n",
       "    </tr>\n",
       "    <tr>\n",
       "      <th>3</th>\n",
       "      <td>5.050000</td>\n",
       "      <td>1.3</td>\n",
       "      <td>6.3</td>\n",
       "    </tr>\n",
       "    <tr>\n",
       "      <th>7</th>\n",
       "      <td>5.271429</td>\n",
       "      <td>1.8</td>\n",
       "      <td>14.8</td>\n",
       "    </tr>\n",
       "    <tr>\n",
       "      <th>11</th>\n",
       "      <td>10.300000</td>\n",
       "      <td>10.3</td>\n",
       "      <td>10.3</td>\n",
       "    </tr>\n",
       "    <tr>\n",
       "      <th>...</th>\n",
       "      <td>...</td>\n",
       "      <td>...</td>\n",
       "      <td>...</td>\n",
       "    </tr>\n",
       "    <tr>\n",
       "      <th>206202</th>\n",
       "      <td>1.600000</td>\n",
       "      <td>1.3</td>\n",
       "      <td>2.5</td>\n",
       "    </tr>\n",
       "    <tr>\n",
       "      <th>206206</th>\n",
       "      <td>8.300000</td>\n",
       "      <td>1.8</td>\n",
       "      <td>14.8</td>\n",
       "    </tr>\n",
       "    <tr>\n",
       "      <th>206207</th>\n",
       "      <td>8.835000</td>\n",
       "      <td>4.4</td>\n",
       "      <td>14.8</td>\n",
       "    </tr>\n",
       "    <tr>\n",
       "      <th>206208</th>\n",
       "      <td>7.856410</td>\n",
       "      <td>4.4</td>\n",
       "      <td>10.3</td>\n",
       "    </tr>\n",
       "    <tr>\n",
       "      <th>206209</th>\n",
       "      <td>10.300000</td>\n",
       "      <td>10.3</td>\n",
       "      <td>10.3</td>\n",
       "    </tr>\n",
       "  </tbody>\n",
       "</table>\n",
       "<p>124378 rows × 3 columns</p>\n",
       "</div>"
      ],
      "text/plain": [
       "            prices            \n",
       "              mean   min   max\n",
       "user_id                       \n",
       "1         6.367797   1.0  14.0\n",
       "2         6.610811   1.3  14.8\n",
       "3         5.050000   1.3   6.3\n",
       "7         5.271429   1.8  14.8\n",
       "11       10.300000  10.3  10.3\n",
       "...            ...   ...   ...\n",
       "206202    1.600000   1.3   2.5\n",
       "206206    8.300000   1.8  14.8\n",
       "206207    8.835000   4.4  14.8\n",
       "206208    7.856410   4.4  10.3\n",
       "206209   10.300000  10.3  10.3\n",
       "\n",
       "[124378 rows x 3 columns]"
      ]
     },
     "execution_count": 75,
     "metadata": {},
     "output_type": "execute_result"
    }
   ],
   "source": [
    "#Grouping user by expenditure\n",
    "new_customer1.groupby('user_id').agg({'prices': ['mean', 'min', 'max']})"
   ]
  },
  {
   "cell_type": "code",
   "execution_count": 76,
   "id": "9097b43d",
   "metadata": {},
   "outputs": [
    {
     "data": {
      "text/html": [
       "<div>\n",
       "<style scoped>\n",
       "    .dataframe tbody tr th:only-of-type {\n",
       "        vertical-align: middle;\n",
       "    }\n",
       "\n",
       "    .dataframe tbody tr th {\n",
       "        vertical-align: top;\n",
       "    }\n",
       "\n",
       "    .dataframe thead tr th {\n",
       "        text-align: left;\n",
       "    }\n",
       "\n",
       "    .dataframe thead tr:last-of-type th {\n",
       "        text-align: right;\n",
       "    }\n",
       "</style>\n",
       "<table border=\"1\" class=\"dataframe\">\n",
       "  <thead>\n",
       "    <tr>\n",
       "      <th></th>\n",
       "      <th colspan=\"3\" halign=\"left\">order_frequency_flag</th>\n",
       "    </tr>\n",
       "    <tr>\n",
       "      <th></th>\n",
       "      <th>mean</th>\n",
       "      <th>min</th>\n",
       "      <th>max</th>\n",
       "    </tr>\n",
       "    <tr>\n",
       "      <th>user_id</th>\n",
       "      <th></th>\n",
       "      <th></th>\n",
       "      <th></th>\n",
       "    </tr>\n",
       "  </thead>\n",
       "  <tbody>\n",
       "    <tr>\n",
       "      <th>1</th>\n",
       "      <td>20.0</td>\n",
       "      <td>20.0</td>\n",
       "      <td>20.0</td>\n",
       "    </tr>\n",
       "    <tr>\n",
       "      <th>2</th>\n",
       "      <td>13.0</td>\n",
       "      <td>13.0</td>\n",
       "      <td>13.0</td>\n",
       "    </tr>\n",
       "    <tr>\n",
       "      <th>3</th>\n",
       "      <td>11.0</td>\n",
       "      <td>11.0</td>\n",
       "      <td>11.0</td>\n",
       "    </tr>\n",
       "    <tr>\n",
       "      <th>7</th>\n",
       "      <td>9.0</td>\n",
       "      <td>9.0</td>\n",
       "      <td>9.0</td>\n",
       "    </tr>\n",
       "    <tr>\n",
       "      <th>11</th>\n",
       "      <td>14.0</td>\n",
       "      <td>14.0</td>\n",
       "      <td>14.0</td>\n",
       "    </tr>\n",
       "    <tr>\n",
       "      <th>...</th>\n",
       "      <td>...</td>\n",
       "      <td>...</td>\n",
       "      <td>...</td>\n",
       "    </tr>\n",
       "    <tr>\n",
       "      <th>206202</th>\n",
       "      <td>11.0</td>\n",
       "      <td>11.0</td>\n",
       "      <td>11.0</td>\n",
       "    </tr>\n",
       "    <tr>\n",
       "      <th>206206</th>\n",
       "      <td>3.0</td>\n",
       "      <td>3.0</td>\n",
       "      <td>3.0</td>\n",
       "    </tr>\n",
       "    <tr>\n",
       "      <th>206207</th>\n",
       "      <td>11.0</td>\n",
       "      <td>11.0</td>\n",
       "      <td>11.0</td>\n",
       "    </tr>\n",
       "    <tr>\n",
       "      <th>206208</th>\n",
       "      <td>7.0</td>\n",
       "      <td>7.0</td>\n",
       "      <td>7.0</td>\n",
       "    </tr>\n",
       "    <tr>\n",
       "      <th>206209</th>\n",
       "      <td>18.0</td>\n",
       "      <td>18.0</td>\n",
       "      <td>18.0</td>\n",
       "    </tr>\n",
       "  </tbody>\n",
       "</table>\n",
       "<p>124378 rows × 3 columns</p>\n",
       "</div>"
      ],
      "text/plain": [
       "        order_frequency_flag            \n",
       "                        mean   min   max\n",
       "user_id                                 \n",
       "1                       20.0  20.0  20.0\n",
       "2                       13.0  13.0  13.0\n",
       "3                       11.0  11.0  11.0\n",
       "7                        9.0   9.0   9.0\n",
       "11                      14.0  14.0  14.0\n",
       "...                      ...   ...   ...\n",
       "206202                  11.0  11.0  11.0\n",
       "206206                   3.0   3.0   3.0\n",
       "206207                  11.0  11.0  11.0\n",
       "206208                   7.0   7.0   7.0\n",
       "206209                  18.0  18.0  18.0\n",
       "\n",
       "[124378 rows x 3 columns]"
      ]
     },
     "execution_count": 76,
     "metadata": {},
     "output_type": "execute_result"
    }
   ],
   "source": [
    "# grouping users by frequency\n",
    "\n",
    "new_customer1.groupby('user_id').agg({'order_frequency_flag': ['mean', 'min', 'max']})"
   ]
  },
  {
   "cell_type": "markdown",
   "id": "228fb5cb",
   "metadata": {},
   "source": [
    "#### 8. Compare your customer profiles with regions and departments"
   ]
  },
  {
   "cell_type": "code",
   "execution_count": 77,
   "id": "559a7d9e",
   "metadata": {},
   "outputs": [
    {
     "data": {
      "image/png": "[encoded data removed]",
      "text/plain": [
       "<Figure size 432x288 with 1 Axes>"
      ]
     },
     "metadata": {
      "needs_background": "light"
     },
     "output_type": "display_data"
    }
   ],
   "source": [
    "# Income level of each region\n",
    "bar_region_incomelevel2= new_customer1['income level'].value_counts().plot.bar()"
   ]
  },
  {
   "cell_type": "code",
   "execution_count": 78,
   "id": "8869fed4",
   "metadata": {},
   "outputs": [],
   "source": [
    "bar_region_incomelevel2.figure.savefig(os.path.join(path, '04 Analysis','Visualizations', 'bar_region_incomeleve2.png'))"
   ]
  },
  {
   "cell_type": "code",
   "execution_count": 152,
   "id": "a4df57aa",
   "metadata": {
    "scrolled": true
   },
   "outputs": [
    {
     "data": {
      "image/png": "[encoded data removed]",
      "text/plain": [
       "<Figure size 432x288 with 1 Axes>"
      ]
     },
     "metadata": {
      "needs_background": "light"
     },
     "output_type": "display_data"
    }
   ],
   "source": [
    "#Average income of each region\n",
    "bar_region_income2 = new_customer1['Region'].value_counts().plot.bar(color = ['green', 'orange', 'purple', 'red'])\n",
    "plt.ylabel('Average income')\n",
    "bar_region_income2.yaxis.set_major_formatter(ticker.FuncFormatter(lambda x, pos: '{:,.0f}'.format(x) + '$'))\n",
    "plt.xticks(rotation= 45)\n",
    "plt.title('Region by Average income')\n",
    "plt.show()\n"
   ]
  },
  {
   "cell_type": "code",
   "execution_count": 151,
   "id": "67e6f4cf",
   "metadata": {},
   "outputs": [],
   "source": [
    "bar_region_income2.figure.savefig(os.path.join(path, '04 Analysis','Visualizations', 'bar_region_income2.png'))"
   ]
  },
  {
   "cell_type": "code",
   "execution_count": 81,
   "id": "739d3b13",
   "metadata": {},
   "outputs": [],
   "source": [
    "#Loyalty flag in each region\n",
    "bar_region_loyalty_flag = new_customer1.groupby(['Region', 'loyalty_flag'])['days_since_prior_order'].mean().unstack('loyalty_flag').fillna(0)"
   ]
  },
  {
   "cell_type": "code",
   "execution_count": 82,
   "id": "6b501264",
   "metadata": {
    "scrolled": true
   },
   "outputs": [
    {
     "data": {
      "text/plain": [
       "<AxesSubplot:xlabel='Region'>"
      ]
     },
     "execution_count": 82,
     "metadata": {},
     "output_type": "execute_result"
    },
    {
     "data": {
      "image/png": "[encoded data removed]",
      "text/plain": [
       "<Figure size 432x288 with 1 Axes>"
      ]
     },
     "metadata": {
      "needs_background": "light"
     },
     "output_type": "display_data"
    }
   ],
   "source": [
    "bar_region_loyalty_flag.plot(kind='bar', stacked=False)"
   ]
  },
  {
   "cell_type": "code",
   "execution_count": null,
   "id": "ca9a1256",
   "metadata": {},
   "outputs": [],
   "source": []
  }
 ],
 "metadata": {
  "kernelspec": {
   "display_name": "Python 3",
   "language": "python",
   "name": "python3"
  },
  "language_info": {
   "codemirror_mode": {
    "name": "ipython",
    "version": 3
   },
   "file_extension": ".py",
   "mimetype": "text/x-python",
   "name": "python",
   "nbconvert_exporter": "python",
   "pygments_lexer": "ipython3",
   "version": "3.8.8"
  }
 },
 "nbformat": 4,
 "nbformat_minor": 5
}
