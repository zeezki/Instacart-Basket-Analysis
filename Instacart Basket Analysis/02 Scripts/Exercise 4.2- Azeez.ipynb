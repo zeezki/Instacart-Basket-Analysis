{
 "cells": [
  {
   "cell_type": "markdown",
   "id": "fd0c81b4",
   "metadata": {},
   "source": [
    "# Answer 4.2"
   ]
  },
  {
   "cell_type": "code",
   "execution_count": 3,
   "id": "df6b476f",
   "metadata": {},
   "outputs": [],
   "source": [
    "# Import libraries\n",
    "import pandas as pd\n",
    "import numpy as np\n",
    "import os"
   ]
  },
  {
   "cell_type": "markdown",
   "id": "fb2ee061",
   "metadata": {},
   "source": [
    "## Python data types"
   ]
  },
  {
   "cell_type": "code",
   "execution_count": 4,
   "id": "df0c6d6d",
   "metadata": {},
   "outputs": [],
   "source": [
    "x=70"
   ]
  },
  {
   "cell_type": "code",
   "execution_count": 5,
   "id": "ab416667",
   "metadata": {},
   "outputs": [
    {
     "data": {
      "text/plain": [
       "100"
      ]
     },
     "execution_count": 5,
     "metadata": {},
     "output_type": "execute_result"
    }
   ],
   "source": [
    "x+30"
   ]
  },
  {
   "cell_type": "code",
   "execution_count": 6,
   "id": "4c9fcf1b",
   "metadata": {},
   "outputs": [],
   "source": [
    "y=10"
   ]
  },
  {
   "cell_type": "code",
   "execution_count": 7,
   "id": "0726b1ef",
   "metadata": {},
   "outputs": [
    {
     "data": {
      "text/plain": [
       "100"
      ]
     },
     "execution_count": 7,
     "metadata": {},
     "output_type": "execute_result"
    }
   ],
   "source": [
    "y*10"
   ]
  },
  {
   "cell_type": "code",
   "execution_count": 8,
   "id": "7f975e25",
   "metadata": {},
   "outputs": [],
   "source": [
    "z=500"
   ]
  },
  {
   "cell_type": "code",
   "execution_count": 10,
   "id": "5540cbcf",
   "metadata": {},
   "outputs": [
    {
     "data": {
      "text/plain": [
       "100"
      ]
     },
     "execution_count": 10,
     "metadata": {},
     "output_type": "execute_result"
    }
   ],
   "source": [
    "z-400"
   ]
  },
  {
   "cell_type": "code",
   "execution_count": 11,
   "id": "82fa1596",
   "metadata": {},
   "outputs": [],
   "source": [
    "a=7.5"
   ]
  },
  {
   "cell_type": "code",
   "execution_count": 12,
   "id": "b98a4476",
   "metadata": {},
   "outputs": [],
   "source": [
    "b=2.5"
   ]
  },
  {
   "cell_type": "code",
   "execution_count": 13,
   "id": "d0af6e37",
   "metadata": {},
   "outputs": [
    {
     "data": {
      "text/plain": [
       "3.0"
      ]
     },
     "execution_count": 13,
     "metadata": {},
     "output_type": "execute_result"
    }
   ],
   "source": [
    "a/b"
   ]
  },
  {
   "cell_type": "code",
   "execution_count": 14,
   "id": "552420df",
   "metadata": {},
   "outputs": [],
   "source": [
    "c= 'I am feeling good'"
   ]
  },
  {
   "cell_type": "code",
   "execution_count": 17,
   "id": "86a33ec4",
   "metadata": {},
   "outputs": [],
   "source": [
    "d= ' tonight'"
   ]
  },
  {
   "cell_type": "code",
   "execution_count": 18,
   "id": "5c2b16a4",
   "metadata": {},
   "outputs": [
    {
     "data": {
      "text/plain": [
       "'I am feeling good tonight'"
      ]
     },
     "execution_count": 18,
     "metadata": {},
     "output_type": "execute_result"
    }
   ],
   "source": [
    "c+d"
   ]
  },
  {
   "cell_type": "markdown",
   "id": "0d003955",
   "metadata": {},
   "source": [
    "## Bonus Task"
   ]
  },
  {
   "cell_type": "code",
   "execution_count": 20,
   "id": "de06815e",
   "metadata": {},
   "outputs": [
    {
     "data": {
      "text/plain": [
       "' tonight tonight tonight tonight tonight tonight tonight tonight tonight tonight tonight tonight tonight tonight tonight tonight tonight tonight tonight tonight tonight tonight tonight tonight tonight tonight tonight tonight tonight tonight tonight tonight tonight tonight tonight tonight tonight tonight tonight tonight tonight tonight tonight tonight tonight tonight tonight tonight tonight tonight tonight tonight tonight tonight tonight tonight tonight tonight tonight tonight tonight tonight tonight tonight tonight tonight tonight tonight tonight tonight tonight tonight tonight tonight tonight tonight tonight tonight tonight tonight tonight tonight tonight tonight tonight tonight tonight tonight tonight tonight tonight tonight tonight tonight tonight tonight tonight tonight tonight tonight'"
      ]
     },
     "execution_count": 20,
     "metadata": {},
     "output_type": "execute_result"
    }
   ],
   "source": [
    "d*100"
   ]
  },
  {
   "cell_type": "code",
   "execution_count": null,
   "id": "3f8d190d",
   "metadata": {},
   "outputs": [],
   "source": []
  }
 ],
 "metadata": {
  "kernelspec": {
   "display_name": "Python 3",
   "language": "python",
   "name": "python3"
  },
  "language_info": {
   "codemirror_mode": {
    "name": "ipython",
    "version": 3
   },
   "file_extension": ".py",
   "mimetype": "text/x-python",
   "name": "python",
   "nbconvert_exporter": "python",
   "pygments_lexer": "ipython3",
   "version": "3.8.8"
  }
 },
 "nbformat": 4,
 "nbformat_minor": 5
}
